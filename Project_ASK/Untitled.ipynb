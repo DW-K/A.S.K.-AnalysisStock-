{
 "cells": [
  {
   "cell_type": "code",
   "execution_count": 1,
   "id": "13f52582",
   "metadata": {
    "ExecuteTime": {
     "end_time": "2022-01-22T07:02:11.318128Z",
     "start_time": "2022-01-22T07:01:37.256575Z"
    }
   },
   "outputs": [],
   "source": [
    "import torch\n",
    "from torch import nn, optim\n",
    "from sklearn.datasets import load_boston\n",
    "from torch.utils.data import  TensorDataset, DataLoader"
   ]
  },
  {
   "cell_type": "code",
   "execution_count": 2,
   "id": "7f39668b",
   "metadata": {
    "ExecuteTime": {
     "end_time": "2022-01-22T07:02:12.220134Z",
     "start_time": "2022-01-22T07:02:11.336134Z"
    }
   },
   "outputs": [
    {
     "name": "stdout",
     "output_type": "stream",
     "text": [
      "torch.Size([120, 13])\n",
      "tensor(12.7000, dtype=torch.float64) tensor(43.8000, dtype=torch.float64)\n"
     ]
    }
   ],
   "source": [
    "boston = load_boston()\n",
    "\n",
    "X_train = boston.data[:120]\n",
    "y_train = boston.target[:120]\n",
    "\n",
    "X_test = boston.data[120:]\n",
    "y_test = boston.target[120:]\n",
    "\n",
    "X_train, y_train, X_test, y_test = map(torch.tensor, \n",
    "                                       (X_train, y_train, X_test, y_test))\n",
    "\n",
    "n, c = X_train.shape\n",
    "\n",
    "print(X_train.shape)\n",
    "print(y_train.min(), y_train.max())"
   ]
  },
  {
   "cell_type": "code",
   "execution_count": 42,
   "id": "380e50d7",
   "metadata": {
    "ExecuteTime": {
     "end_time": "2022-01-22T07:29:36.538526Z",
     "start_time": "2022-01-22T07:29:36.241284Z"
    }
   },
   "outputs": [],
   "source": [
    "import math\n",
    "\n",
    "weights = torch.randn(c, 1, dtype=torch.float64) / math.sqrt(c)\n",
    "weights.requires_grad_()\n",
    "bias = torch.zeros(1, requires_grad=True)"
   ]
  },
  {
   "cell_type": "code",
   "execution_count": 54,
   "id": "bb183990",
   "metadata": {
    "ExecuteTime": {
     "end_time": "2022-01-22T07:34:38.573427Z",
     "start_time": "2022-01-22T07:34:38.557426Z"
    }
   },
   "outputs": [],
   "source": [
    "def relu(x):\n",
    "    return torch.maximum(torch.zeros_like(x), x)\n",
    "\n",
    "def model(xb):\n",
    "    return relu(xb @ weights + bias)+20"
   ]
  },
  {
   "cell_type": "code",
   "execution_count": 55,
   "id": "ff454491",
   "metadata": {
    "ExecuteTime": {
     "end_time": "2022-01-22T07:34:40.701001Z",
     "start_time": "2022-01-22T07:34:40.695029Z"
    }
   },
   "outputs": [
    {
     "name": "stdout",
     "output_type": "stream",
     "text": [
      "tensor([20.], dtype=torch.float64, grad_fn=<SelectBackward0>) torch.Size([5, 1])\n"
     ]
    }
   ],
   "source": [
    "batch_size = 5\n",
    "\n",
    "xb = X_train[0:batch_size]\n",
    "preds = model(xb)\n",
    "print(preds[0], preds.shape)"
   ]
  },
  {
   "cell_type": "code",
   "execution_count": 62,
   "id": "a1f52720",
   "metadata": {
    "ExecuteTime": {
     "end_time": "2022-01-22T07:36:33.152431Z",
     "start_time": "2022-01-22T07:36:33.146430Z"
    }
   },
   "outputs": [],
   "source": [
    "def mse(input_data, target):\n",
    "    return torch.square(input_data - target).mean()\n",
    "\n",
    "loss_func = mse"
   ]
  },
  {
   "cell_type": "code",
   "execution_count": 63,
   "id": "1477bc92",
   "metadata": {
    "ExecuteTime": {
     "end_time": "2022-01-22T07:36:34.733985Z",
     "start_time": "2022-01-22T07:36:34.717996Z"
    }
   },
   "outputs": [
    {
     "name": "stdout",
     "output_type": "stream",
     "text": [
      "tensor(135.3300, dtype=torch.float64, grad_fn=<MeanBackward0>)\n"
     ]
    }
   ],
   "source": [
    "yb = y_train[0:batch_size]\n",
    "print(loss_func(preds, yb))"
   ]
  },
  {
   "cell_type": "code",
   "execution_count": 64,
   "id": "4811576b",
   "metadata": {
    "ExecuteTime": {
     "end_time": "2022-01-22T07:36:43.504633Z",
     "start_time": "2022-01-22T07:36:43.136631Z"
    }
   },
   "outputs": [
    {
     "name": "stdout",
     "output_type": "stream",
     "text": [
      "0: 534.5127057233656\n",
      "1: 108.35880829015544\n"
     ]
    }
   ],
   "source": [
    "import math\n",
    "\n",
    "weights = torch.randn(c, 1, dtype=torch.float64) / math.sqrt(c)\n",
    "weights.requires_grad_()\n",
    "bias = torch.zeros(1, requires_grad=True)\n",
    "\n",
    "lr = 0.5\n",
    "epochs = 2\n",
    "batch_size = 5\n",
    "\n",
    "for epoch in range(epochs):\n",
    "    print(f'{epoch}: {loss_func(model(X_test), y_test)}')\n",
    "    for i in range((n-1)//batch_size+1):\n",
    "        start_i = i * batch_size\n",
    "        end_i = start_i + batch_size\n",
    "        xb = X_train[start_i:end_i]\n",
    "        yb = y_train[start_i:end_i]\n",
    "        \n",
    "        pred = model(xb)\n",
    "        \n",
    "        loss = loss_func(pred, yb)\n",
    "        \n",
    "        loss.backward()\n",
    "        \n",
    "        with torch.no_grad():\n",
    "            weights -= weights.grad *lr\n",
    "            bias -= bias.grad * lr\n",
    "            weights.grad.zero_()\n",
    "            bias.grad.zero_()"
   ]
  },
  {
   "cell_type": "code",
   "execution_count": 134,
   "id": "fcdaa0ce",
   "metadata": {
    "ExecuteTime": {
     "end_time": "2022-01-20T04:52:58.772860Z",
     "start_time": "2022-01-20T04:52:58.766852Z"
    }
   },
   "outputs": [],
   "source": [
    "import torch.nn.functional as F\n",
    "\n",
    "def model(xb):\n",
    "    return F.relu(xb @ weights + bias)"
   ]
  },
  {
   "cell_type": "code",
   "execution_count": 137,
   "id": "9927421e",
   "metadata": {
    "ExecuteTime": {
     "end_time": "2022-01-20T04:53:12.382417Z",
     "start_time": "2022-01-20T04:53:12.373416Z"
    }
   },
   "outputs": [
    {
     "name": "stdout",
     "output_type": "stream",
     "text": [
      "tensor(388.3240, dtype=torch.float64, grad_fn=<MeanBackward0>)\n"
     ]
    }
   ],
   "source": [
    "print(loss_func(model(xb), yb))"
   ]
  },
  {
   "cell_type": "code",
   "execution_count": 141,
   "id": "1d941d2a",
   "metadata": {
    "ExecuteTime": {
     "end_time": "2022-01-20T04:56:04.241430Z",
     "start_time": "2022-01-20T04:56:04.221430Z"
    }
   },
   "outputs": [],
   "source": [
    "from torch import nn\n",
    "\n",
    "class myModel(nn.Module):\n",
    "    def __init__(self):\n",
    "        super().__init__()\n",
    "        self.weights = nn.Parameter(\n",
    "            torch.randn(c, 1, dtype=torch.float64) / math.sqrt(c))\n",
    "        self.bias = nn.Parameter(torch.zeros(1))\n",
    "\n",
    "    def forward(self, xb):\n",
    "        return F.relu(xb @ self.weights + self.bias)"
   ]
  },
  {
   "cell_type": "code",
   "execution_count": 142,
   "id": "e97fff49",
   "metadata": {
    "ExecuteTime": {
     "end_time": "2022-01-20T04:56:06.364947Z",
     "start_time": "2022-01-20T04:56:06.070948Z"
    }
   },
   "outputs": [
    {
     "name": "stdout",
     "output_type": "stream",
     "text": [
      "tensor(388.3240, dtype=torch.float64, grad_fn=<MeanBackward0>)\n"
     ]
    }
   ],
   "source": [
    "model = myModel()\n",
    "print(loss_func(model(xb), yb))"
   ]
  },
  {
   "cell_type": "code",
   "execution_count": 146,
   "id": "cc6c40ed",
   "metadata": {
    "ExecuteTime": {
     "end_time": "2022-01-20T04:57:26.251958Z",
     "start_time": "2022-01-20T04:57:25.901961Z"
    }
   },
   "outputs": [],
   "source": [
    "def fit():\n",
    "    for epoch in range(epochs):\n",
    "        for i in range((n - 1) // batch_size + 1):\n",
    "            start_i = i * batch_size\n",
    "            end_i = start_i + batch_size\n",
    "            xb = X_train[start_i:end_i]\n",
    "            yb = y_train[start_i:end_i]\n",
    "            pred = model(xb)\n",
    "            loss = loss_func(pred, yb)\n",
    "\n",
    "            loss.backward()\n",
    "            with torch.no_grad():\n",
    "                for p in model.parameters():\n",
    "                    p -= p.grad * lr\n",
    "                model.zero_grad()\n",
    "\n",
    "fit()"
   ]
  },
  {
   "cell_type": "code",
   "execution_count": 3,
   "id": "14e76048",
   "metadata": {
    "ExecuteTime": {
     "end_time": "2022-01-22T07:03:42.343404Z",
     "start_time": "2022-01-22T07:03:42.333430Z"
    }
   },
   "outputs": [],
   "source": [
    "class myModel(nn.Module):\n",
    "    def __init__(self):\n",
    "        super().__init__()\n",
    "        self.lin = nn.Linear(c, 1)\n",
    "\n",
    "    def forward(self, xb):\n",
    "        return self.lin(xb)"
   ]
  },
  {
   "cell_type": "code",
   "execution_count": 4,
   "id": "1ebae9dc",
   "metadata": {
    "ExecuteTime": {
     "end_time": "2022-01-22T07:03:52.646793Z",
     "start_time": "2022-01-22T07:03:51.397746Z"
    }
   },
   "outputs": [
    {
     "ename": "NameError",
     "evalue": "name 'loss_func' is not defined",
     "output_type": "error",
     "traceback": [
      "\u001b[1;31m---------------------------------------------------------------------------\u001b[0m",
      "\u001b[1;31mNameError\u001b[0m                                 Traceback (most recent call last)",
      "\u001b[1;32m<ipython-input-4-26dbb79de3ef>\u001b[0m in \u001b[0;36m<module>\u001b[1;34m\u001b[0m\n\u001b[0;32m      1\u001b[0m \u001b[0mmodel\u001b[0m \u001b[1;33m=\u001b[0m \u001b[0mmyModel\u001b[0m\u001b[1;33m(\u001b[0m\u001b[1;33m)\u001b[0m\u001b[1;33m\u001b[0m\u001b[1;33m\u001b[0m\u001b[0m\n\u001b[1;32m----> 2\u001b[1;33m \u001b[0mprint\u001b[0m\u001b[1;33m(\u001b[0m\u001b[0mloss_func\u001b[0m\u001b[1;33m(\u001b[0m\u001b[0mmodel\u001b[0m\u001b[1;33m(\u001b[0m\u001b[0mxb\u001b[0m\u001b[1;33m)\u001b[0m\u001b[1;33m,\u001b[0m \u001b[0myb\u001b[0m\u001b[1;33m)\u001b[0m\u001b[1;33m)\u001b[0m\u001b[1;33m\u001b[0m\u001b[1;33m\u001b[0m\u001b[0m\n\u001b[0m",
      "\u001b[1;31mNameError\u001b[0m: name 'loss_func' is not defined"
     ]
    }
   ],
   "source": [
    "model = myModel()\n",
    "print(loss_func(model(xb), yb))"
   ]
  },
  {
   "cell_type": "code",
   "execution_count": 73,
   "id": "23b6bdc7",
   "metadata": {
    "ExecuteTime": {
     "end_time": "2022-01-22T07:41:17.628861Z",
     "start_time": "2022-01-22T07:41:15.945898Z"
    }
   },
   "outputs": [
    {
     "name": "stdout",
     "output_type": "stream",
     "text": [
      "13\n",
      "0/200:\n",
      "tensor(388.3240, dtype=torch.float64, grad_fn=<MseLossBackward0>)\n",
      "10/200:\n",
      "tensor(388.3240, dtype=torch.float64, grad_fn=<MseLossBackward0>)\n",
      "20/200:\n",
      "tensor(388.3240, dtype=torch.float64, grad_fn=<MseLossBackward0>)\n",
      "30/200:\n",
      "tensor(388.3240, dtype=torch.float64, grad_fn=<MseLossBackward0>)\n",
      "40/200:\n",
      "tensor(388.3240, dtype=torch.float64, grad_fn=<MseLossBackward0>)\n",
      "50/200:\n",
      "tensor(388.3240, dtype=torch.float64, grad_fn=<MseLossBackward0>)\n",
      "60/200:\n",
      "tensor(388.3240, dtype=torch.float64, grad_fn=<MseLossBackward0>)\n",
      "70/200:\n",
      "tensor(388.3240, dtype=torch.float64, grad_fn=<MseLossBackward0>)\n",
      "80/200:\n",
      "tensor(388.3240, dtype=torch.float64, grad_fn=<MseLossBackward0>)\n",
      "90/200:\n",
      "tensor(388.3240, dtype=torch.float64, grad_fn=<MseLossBackward0>)\n",
      "100/200:\n",
      "tensor(388.3240, dtype=torch.float64, grad_fn=<MseLossBackward0>)\n",
      "110/200:\n",
      "tensor(388.3240, dtype=torch.float64, grad_fn=<MseLossBackward0>)\n",
      "120/200:\n",
      "tensor(388.3240, dtype=torch.float64, grad_fn=<MseLossBackward0>)\n",
      "130/200:\n",
      "tensor(388.3240, dtype=torch.float64, grad_fn=<MseLossBackward0>)\n",
      "140/200:\n",
      "tensor(388.3240, dtype=torch.float64, grad_fn=<MseLossBackward0>)\n",
      "150/200:\n",
      "tensor(388.3240, dtype=torch.float64, grad_fn=<MseLossBackward0>)\n",
      "160/200:\n",
      "tensor(388.3240, dtype=torch.float64, grad_fn=<MseLossBackward0>)\n",
      "170/200:\n",
      "tensor(388.3240, dtype=torch.float64, grad_fn=<MseLossBackward0>)\n",
      "180/200:\n",
      "tensor(388.3240, dtype=torch.float64, grad_fn=<MseLossBackward0>)\n",
      "190/200:\n",
      "tensor(388.3240, dtype=torch.float64, grad_fn=<MseLossBackward0>)\n"
     ]
    }
   ],
   "source": [
    "from torch import optim\n",
    "import torch.nn.functional as F\n",
    "\n",
    "loss_func = F.mse_loss\n",
    "\n",
    "lr = 0.05\n",
    "epochs = 200\n",
    "batch_size = 5\n",
    "\n",
    "n, c = X_train.shape\n",
    "\n",
    "print(c)\n",
    "\n",
    "class myModel(nn.Module):\n",
    "    def __init__(self):\n",
    "        super().__init__()\n",
    "        self.lin = nn.Linear(c, 1, dtype=torch.float64)\n",
    "        self.relu = F.relu\n",
    "\n",
    "    def forward(self, xb):\n",
    "        return self.relu(self.lin(xb))\n",
    "\n",
    "def get_model():\n",
    "    model = myModel()\n",
    "    return model, optim.SGD(model.parameters(), lr=lr)\n",
    "\n",
    "model, opt = get_model()\n",
    "# print(loss_func(model(xb), yb))\n",
    "\n",
    "for epoch in range(epochs):\n",
    "    for i in range((n - 1) // batch_size + 1):\n",
    "        start_i = i * batch_size\n",
    "        end_i = start_i + batch_size\n",
    "        xb = X_train[start_i:end_i]\n",
    "        yb = y_train[start_i:end_i].unsqueeze(-1)\n",
    "        pred = model(xb)\n",
    "        loss = loss_func(pred, yb)\n",
    "        \n",
    "        opt.zero_grad()\n",
    "        loss.backward()\n",
    "        opt.step()\n",
    "        \n",
    "    if epoch % 10 == 0:\n",
    "        print(f'{epoch}/{epochs}:')\n",
    "        print(loss_func(model(xb), yb))"
   ]
  }
 ],
 "metadata": {
  "kernelspec": {
   "display_name": "project_ask_server",
   "language": "python",
   "name": "project_ask_server"
  },
  "language_info": {
   "codemirror_mode": {
    "name": "ipython",
    "version": 3
   },
   "file_extension": ".py",
   "mimetype": "text/x-python",
   "name": "python",
   "nbconvert_exporter": "python",
   "pygments_lexer": "ipython3",
   "version": "3.8.10"
  },
  "toc": {
   "base_numbering": 1,
   "nav_menu": {},
   "number_sections": true,
   "sideBar": true,
   "skip_h1_title": false,
   "title_cell": "Table of Contents",
   "title_sidebar": "Contents",
   "toc_cell": false,
   "toc_position": {},
   "toc_section_display": true,
   "toc_window_display": false
  },
  "varInspector": {
   "cols": {
    "lenName": 16,
    "lenType": 16,
    "lenVar": 40
   },
   "kernels_config": {
    "python": {
     "delete_cmd_postfix": "",
     "delete_cmd_prefix": "del ",
     "library": "var_list.py",
     "varRefreshCmd": "print(var_dic_list())"
    },
    "r": {
     "delete_cmd_postfix": ") ",
     "delete_cmd_prefix": "rm(",
     "library": "var_list.r",
     "varRefreshCmd": "cat(var_dic_list()) "
    }
   },
   "types_to_exclude": [
    "module",
    "function",
    "builtin_function_or_method",
    "instance",
    "_Feature"
   ],
   "window_display": false
  }
 },
 "nbformat": 4,
 "nbformat_minor": 5
}
