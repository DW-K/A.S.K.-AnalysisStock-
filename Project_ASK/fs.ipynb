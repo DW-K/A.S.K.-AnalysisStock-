{
 "cells": [
  {
   "cell_type": "code",
   "execution_count": null,
   "id": "edb2e985",
   "metadata": {
    "ExecuteTime": {
     "end_time": "2022-03-01T04:20:44.937845Z",
     "start_time": "2022-03-01T04:20:44.937845Z"
    }
   },
   "outputs": [],
   "source": [
    "import pandas as pd\n",
    "import numpy as np\n",
    "import matplotlib.pyplot as plt\n",
    "import seaborn as sns"
   ]
  },
  {
   "cell_type": "code",
   "execution_count": 2,
   "id": "03b1238d",
   "metadata": {
    "ExecuteTime": {
     "end_time": "2022-03-01T04:20:48.683829Z",
     "start_time": "2022-03-01T04:20:47.263918Z"
    }
   },
   "outputs": [],
   "source": [
    "df = pd.read_excel(r'./dataset/fs2.xlsx', index_col='Unnamed: 0')"
   ]
  },
  {
   "cell_type": "code",
   "execution_count": null,
   "id": "d1eb16af",
   "metadata": {
    "ExecuteTime": {
     "end_time": "2022-03-01T03:40:48.027605Z",
     "start_time": "2022-03-01T03:40:47.993600Z"
    }
   },
   "outputs": [],
   "source": [
    "df"
   ]
  },
  {
   "cell_type": "code",
   "execution_count": 4,
   "id": "820e930f",
   "metadata": {
    "ExecuteTime": {
     "end_time": "2022-03-01T04:22:27.612946Z",
     "start_time": "2022-03-01T04:22:27.584948Z"
    }
   },
   "outputs": [
    {
     "name": "stdout",
     "output_type": "stream",
     "text": [
      "<class 'pandas.core.frame.DataFrame'>\n",
      "Int64Index: 15 entries, 20210930 to 20121231\n",
      "Data columns (total 50 columns):\n",
      " #   Column               Non-Null Count  Dtype  \n",
      "---  ------               --------------  -----  \n",
      " 0   유동자산                 15 non-null     int64  \n",
      " 1   현금및현금성자산             15 non-null     int64  \n",
      " 2   단기금융상품               15 non-null     int64  \n",
      " 3   기타유동금융자산             10 non-null     float64\n",
      " 4   매출채권                 15 non-null     int64  \n",
      " 5   미수금                  15 non-null     int64  \n",
      " 6   선급금                  15 non-null     int64  \n",
      " 7   재고자산                 15 non-null     int64  \n",
      " 8   당기법인세자산              15 non-null     int64  \n",
      " 9   기타유동자산               15 non-null     int64  \n",
      " 10  비유동자산                15 non-null     int64  \n",
      " 11  장기금융상품               15 non-null     int64  \n",
      " 12  기타비유동금융자산            14 non-null     float64\n",
      " 13  장기성매출채권              15 non-null     int64  \n",
      " 14  종속기업, 공동기업 및 관계기업투자  15 non-null     int64  \n",
      " 15  유형자산                 15 non-null     int64  \n",
      " 16  투자부동산                15 non-null     int64  \n",
      " 17  무형자산                 15 non-null     int64  \n",
      " 18  이연법인세자산              15 non-null     int64  \n",
      " 19  기타비유동자산              15 non-null     int64  \n",
      " 20  자산총계                 15 non-null     int64  \n",
      " 21  유동부채                 15 non-null     int64  \n",
      " 22  매입채무                 15 non-null     int64  \n",
      " 23  단기차입금                15 non-null     int64  \n",
      " 24  미지급금                 15 non-null     int64  \n",
      " 25  선수금                  15 non-null     int64  \n",
      " 26  미지급비용                15 non-null     int64  \n",
      " 27  당기법인세부채              15 non-null     int64  \n",
      " 28  유동성장기부채              15 non-null     int64  \n",
      " 29  충당부채                 15 non-null     int64  \n",
      " 30  기타유동부채               15 non-null     int64  \n",
      " 31  비유동부채                15 non-null     int64  \n",
      " 32  사채                   15 non-null     int64  \n",
      " 33  장기차입금                15 non-null     int64  \n",
      " 34  장기선수금                15 non-null     int64  \n",
      " 35  순확정급여부채              14 non-null     float64\n",
      " 36  장기종업원급여충당부채          15 non-null     int64  \n",
      " 37  장기충당부채               15 non-null     int64  \n",
      " 38  이연법인세부채              15 non-null     int64  \n",
      " 39  기타비유동부채              15 non-null     int64  \n",
      " 40  부채총계                 15 non-null     int64  \n",
      " 41  지배기업 소유주지분           15 non-null     int64  \n",
      " 42  보통주자본금               15 non-null     int64  \n",
      " 43  주식발행초과금              15 non-null     int64  \n",
      " 44  이익잉여금                15 non-null     int64  \n",
      " 45  기타포괄손익누계액            15 non-null     int64  \n",
      " 46  기타자본항목               15 non-null     int64  \n",
      " 47  비지배지분                2 non-null      float64\n",
      " 48  자본총계                 15 non-null     int64  \n",
      " 49  부채와자본총계              15 non-null     int64  \n",
      "dtypes: float64(4), int64(46)\n",
      "memory usage: 6.0 KB\n"
     ]
    }
   ],
   "source": [
    "df.info()"
   ]
  },
  {
   "cell_type": "code",
   "execution_count": 5,
   "id": "f6d7c78f",
   "metadata": {
    "ExecuteTime": {
     "end_time": "2022-03-01T04:22:32.800221Z",
     "start_time": "2022-03-01T04:22:32.786236Z"
    }
   },
   "outputs": [
    {
     "data": {
      "text/plain": [
       "Index(['유동자산', '현금및현금성자산', '단기금융상품', '기타유동금융자산', '매출채권', '미수금', '선급금', '재고자산',\n",
       "       '당기법인세자산', '기타유동자산', '비유동자산', '장기금융상품', '기타비유동금융자산', '장기성매출채권',\n",
       "       '종속기업, 공동기업 및 관계기업투자', '유형자산', '투자부동산', '무형자산', '이연법인세자산', '기타비유동자산',\n",
       "       '자산총계', '유동부채', '매입채무', '단기차입금', '미지급금', '선수금', '미지급비용', '당기법인세부채',\n",
       "       '유동성장기부채', '충당부채', '기타유동부채', '비유동부채', '사채', '장기차입금', '장기선수금', '순확정급여부채',\n",
       "       '장기종업원급여충당부채', '장기충당부채', '이연법인세부채', '기타비유동부채', '부채총계', '지배기업 소유주지분',\n",
       "       '보통주자본금', '주식발행초과금', '이익잉여금', '기타포괄손익누계액', '기타자본항목', '비지배지분', '자본총계',\n",
       "       '부채와자본총계'],\n",
       "      dtype='object')"
      ]
     },
     "execution_count": 5,
     "metadata": {},
     "output_type": "execute_result"
    }
   ],
   "source": [
    "df.columns"
   ]
  },
  {
   "cell_type": "code",
   "execution_count": null,
   "id": "5f8a2593",
   "metadata": {
    "ExecuteTime": {
     "end_time": "2022-03-01T03:51:02.805153Z",
     "start_time": "2022-03-01T03:51:02.782151Z"
    }
   },
   "outputs": [],
   "source": [
    "valid_cols = [k for k, v in df.isna().sum().to_dict().items() if v < 3]"
   ]
  },
  {
   "cell_type": "code",
   "execution_count": null,
   "id": "08fb321f",
   "metadata": {
    "ExecuteTime": {
     "end_time": "2022-03-01T03:53:16.658005Z",
     "start_time": "2022-03-01T03:53:16.638004Z"
    }
   },
   "outputs": [],
   "source": [
    "df_valid = df[valid_cols]\n",
    "df_fillna = df_valid.fillna(method='bfill')\n",
    "df_fillna = df_fillna.fillna(method='ffill')"
   ]
  },
  {
   "cell_type": "code",
   "execution_count": null,
   "id": "fb469098",
   "metadata": {
    "ExecuteTime": {
     "end_time": "2022-03-01T03:53:19.532991Z",
     "start_time": "2022-03-01T03:53:19.515979Z"
    }
   },
   "outputs": [],
   "source": [
    "df_fillna.isna().sum()"
   ]
  },
  {
   "cell_type": "code",
   "execution_count": null,
   "id": "53c84a5e",
   "metadata": {
    "ExecuteTime": {
     "end_time": "2022-03-01T03:54:07.795805Z",
     "start_time": "2022-03-01T03:54:07.692811Z"
    }
   },
   "outputs": [],
   "source": [
    "df_fillna.info()"
   ]
  },
  {
   "cell_type": "code",
   "execution_count": null,
   "id": "061efadb",
   "metadata": {
    "ExecuteTime": {
     "start_time": "2022-03-01T03:56:05.242Z"
    }
   },
   "outputs": [],
   "source": [
    "plt.rc('font', family='Malgun Gothic')\n",
    "sns.pairplot(data=df_fillna)\n",
    "plt.show()"
   ]
  }
 ],
 "metadata": {
  "kernelspec": {
   "display_name": "Python [conda env:project_ask_server] *",
   "language": "python",
   "name": "conda-env-project_ask_server-py"
  },
  "language_info": {
   "codemirror_mode": {
    "name": "ipython",
    "version": 3
   },
   "file_extension": ".py",
   "mimetype": "text/x-python",
   "name": "python",
   "nbconvert_exporter": "python",
   "pygments_lexer": "ipython3",
   "version": "3.8.0"
  },
  "toc": {
   "base_numbering": 1,
   "nav_menu": {},
   "number_sections": true,
   "sideBar": true,
   "skip_h1_title": false,
   "title_cell": "Table of Contents",
   "title_sidebar": "Contents",
   "toc_cell": false,
   "toc_position": {},
   "toc_section_display": true,
   "toc_window_display": false
  },
  "varInspector": {
   "cols": {
    "lenName": 16,
    "lenType": 16,
    "lenVar": 40
   },
   "kernels_config": {
    "python": {
     "delete_cmd_postfix": "",
     "delete_cmd_prefix": "del ",
     "library": "var_list.py",
     "varRefreshCmd": "print(var_dic_list())"
    },
    "r": {
     "delete_cmd_postfix": ") ",
     "delete_cmd_prefix": "rm(",
     "library": "var_list.r",
     "varRefreshCmd": "cat(var_dic_list()) "
    }
   },
   "types_to_exclude": [
    "module",
    "function",
    "builtin_function_or_method",
    "instance",
    "_Feature"
   ],
   "window_display": false
  }
 },
 "nbformat": 4,
 "nbformat_minor": 5
}
